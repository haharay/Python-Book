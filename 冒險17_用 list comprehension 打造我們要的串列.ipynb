{
 "cells": [
  {
   "cell_type": "markdown",
   "metadata": {},
   "source": [
    "這裡基本上和上次一様, 只是這次用個很炫的 list comprehension 打造我們要的串列。"
   ]
  },
  {
   "cell_type": "code",
   "execution_count": 1,
   "metadata": {},
   "outputs": [
    {
     "data": {
      "text/plain": [
       "[1, 3, 5, 7, 9]"
      ]
     },
     "execution_count": 1,
     "metadata": {},
     "output_type": "execute_result"
    }
   ],
   "source": [
    "[2*k+1 for k in range(5)]"
   ]
  },
  {
   "cell_type": "markdown",
   "metadata": {},
   "source": [
    "### 問題\n",
    "\n",
    "假設你要去瑞士玩, 朋友請你帶三個東西, 你查到瑞士法郎的價格是\n",
    "\n",
    "    [3000, 2500, 100]\n",
    "\n",
    "Google 一下, 發現今天滙率為\n",
    "\n",
    "    1法郎 = 31.4862596台幣\n",
    "    \n",
    "試著把這三個物品的價格換成台幣, 再存起來。"
   ]
  },
  {
   "cell_type": "code",
   "execution_count": 2,
   "metadata": {},
   "outputs": [],
   "source": [
    "price = [3000, 2500, 100]\n",
    "c = 31.4862596\n",
    "\n",
    "price_tw = [p*c for p in price]"
   ]
  },
  {
   "cell_type": "code",
   "execution_count": 3,
   "metadata": {},
   "outputs": [
    {
     "data": {
      "text/plain": [
       "[94458.7788, 78715.649, 3148.62596]"
      ]
     },
     "execution_count": 3,
     "metadata": {},
     "output_type": "execute_result"
    }
   ],
   "source": [
    "price_tw"
   ]
  },
  {
   "cell_type": "markdown",
   "metadata": {},
   "source": [
    "![append](images/append.png)"
   ]
  },
  {
   "cell_type": "markdown",
   "metadata": {},
   "source": [
    "### 字串分割技巧\n",
    "\n",
    "Python 的字串處理能力是有名的強, 比方說我們現在有一筆 CSV 形式的字串, 要分割可以用\n",
    "\n",
    "    .split\n",
    "    \n",
    "來做。"
   ]
  },
  {
   "cell_type": "code",
   "execution_count": 1,
   "metadata": {},
   "outputs": [],
   "source": [
    "st = \"23,68,99\""
   ]
  },
  {
   "cell_type": "code",
   "execution_count": 2,
   "metadata": {},
   "outputs": [
    {
     "data": {
      "text/plain": [
       "['23', '68', '99']"
      ]
     },
     "execution_count": 2,
     "metadata": {},
     "output_type": "execute_result"
    }
   ],
   "source": [
    "st.split(',')"
   ]
  },
  {
   "cell_type": "markdown",
   "metadata": {},
   "source": [
    "### 問題\n",
    "\n",
    "這樣子的確把\n",
    "\n",
    "    st = \"23,68,99\"\n",
    "    \n",
    "三筆資料切開, 但我們希望把這三筆資料轉成整數, 再存到一個串列之中。"
   ]
  },
  {
   "cell_type": "code",
   "execution_count": 4,
   "metadata": {},
   "outputs": [],
   "source": [
    "st = \"23,68,99\"\n",
    "\n",
    "egg = [int(x) for x in st.split(',')]"
   ]
  },
  {
   "cell_type": "code",
   "execution_count": 6,
   "metadata": {},
   "outputs": [
    {
     "data": {
      "text/plain": [
       "[23, 68, 99]"
      ]
     },
     "execution_count": 6,
     "metadata": {},
     "output_type": "execute_result"
    }
   ],
   "source": [
    "egg"
   ]
  },
  {
   "cell_type": "markdown",
   "metadata": {},
   "source": [
    "來副撲克牌吧!"
   ]
  },
  {
   "cell_type": "code",
   "execution_count": 9,
   "metadata": {},
   "outputs": [],
   "source": [
    "suit = list(\"♣♦♥♠\")\n",
    "rank = \"A,2,3,4,5,6,7,8,9,10,J,Q,K\".split(',')"
   ]
  },
  {
   "cell_type": "code",
   "execution_count": 10,
   "metadata": {},
   "outputs": [
    {
     "data": {
      "text/plain": [
       "['♣', '♦', '♥', '♠']"
      ]
     },
     "execution_count": 10,
     "metadata": {},
     "output_type": "execute_result"
    }
   ],
   "source": [
    "suit"
   ]
  },
  {
   "cell_type": "code",
   "execution_count": 11,
   "metadata": {},
   "outputs": [
    {
     "data": {
      "text/plain": [
       "['A', '2', '3', '4', '5', '6', '7', '8', '9', '10', 'J', 'Q', 'K']"
      ]
     },
     "execution_count": 11,
     "metadata": {},
     "output_type": "execute_result"
    }
   ],
   "source": [
    "rank"
   ]
  },
  {
   "cell_type": "code",
   "execution_count": 13,
   "metadata": {},
   "outputs": [],
   "source": [
    "card = [(s, r) for s in suit for r in rank]"
   ]
  },
  {
   "cell_type": "code",
   "execution_count": 16,
   "metadata": {},
   "outputs": [
    {
     "data": {
      "text/plain": [
       "[('♣', 'A'),\n",
       " ('♣', '2'),\n",
       " ('♣', '3'),\n",
       " ('♣', '4'),\n",
       " ('♣', '5'),\n",
       " ('♣', '6'),\n",
       " ('♣', '7'),\n",
       " ('♣', '8'),\n",
       " ('♣', '9'),\n",
       " ('♣', '10'),\n",
       " ('♣', 'J'),\n",
       " ('♣', 'Q'),\n",
       " ('♣', 'K'),\n",
       " ('♦', 'A'),\n",
       " ('♦', '2'),\n",
       " ('♦', '3'),\n",
       " ('♦', '4'),\n",
       " ('♦', '5'),\n",
       " ('♦', '6'),\n",
       " ('♦', '7'),\n",
       " ('♦', '8'),\n",
       " ('♦', '9'),\n",
       " ('♦', '10'),\n",
       " ('♦', 'J'),\n",
       " ('♦', 'Q'),\n",
       " ('♦', 'K'),\n",
       " ('♥', 'A'),\n",
       " ('♥', '2'),\n",
       " ('♥', '3'),\n",
       " ('♥', '4'),\n",
       " ('♥', '5'),\n",
       " ('♥', '6'),\n",
       " ('♥', '7'),\n",
       " ('♥', '8'),\n",
       " ('♥', '9'),\n",
       " ('♥', '10'),\n",
       " ('♥', 'J'),\n",
       " ('♥', 'Q'),\n",
       " ('♥', 'K'),\n",
       " ('♠', 'A'),\n",
       " ('♠', '2'),\n",
       " ('♠', '3'),\n",
       " ('♠', '4'),\n",
       " ('♠', '5'),\n",
       " ('♠', '6'),\n",
       " ('♠', '7'),\n",
       " ('♠', '8'),\n",
       " ('♠', '9'),\n",
       " ('♠', '10'),\n",
       " ('♠', 'J'),\n",
       " ('♠', 'Q'),\n",
       " ('♠', 'K')]"
      ]
     },
     "execution_count": 16,
     "metadata": {},
     "output_type": "execute_result"
    }
   ],
   "source": [
    "card"
   ]
  },
  {
   "cell_type": "code",
   "execution_count": null,
   "metadata": {},
   "outputs": [],
   "source": []
  },
  {
   "cell_type": "markdown",
   "metadata": {},
   "source": [
    "![函式的寫法](images/function.png)"
   ]
  },
  {
   "cell_type": "markdown",
   "metadata": {},
   "source": [
    "我們現在要進入 Python 基礎篇最後一個、也是相當重要的主題, 就是函式的寫法。"
   ]
  },
  {
   "cell_type": "markdown",
   "metadata": {},
   "source": [
    "![函式結構](images/function_str.png)"
   ]
  },
  {
   "cell_type": "markdown",
   "metadata": {},
   "source": [
    "假設我們要做一個簡單的函數, 輸入 $x$, 輸出 $x^2$。"
   ]
  },
  {
   "cell_type": "code",
   "execution_count": 23,
   "metadata": {},
   "outputs": [],
   "source": [
    "def square(x):\n",
    "    return x**2"
   ]
  },
  {
   "cell_type": "code",
   "execution_count": 24,
   "metadata": {},
   "outputs": [
    {
     "data": {
      "text/plain": [
       "9"
      ]
     },
     "execution_count": 24,
     "metadata": {},
     "output_type": "execute_result"
    }
   ],
   "source": [
    "square(3)"
   ]
  },
  {
   "cell_type": "markdown",
   "metadata": {},
   "source": [
    "寫成函式的好處是可以一直重覆使用! 剛開始大家的疑問可能是 `return` 是什麼意思, 我們再用另一個幾乎一樣的函式來說明。"
   ]
  },
  {
   "cell_type": "code",
   "execution_count": 25,
   "metadata": {},
   "outputs": [],
   "source": [
    "def 平方(x):\n",
    "    print(x**2)"
   ]
  },
  {
   "cell_type": "code",
   "execution_count": 26,
   "metadata": {},
   "outputs": [
    {
     "name": "stdout",
     "output_type": "stream",
     "text": [
      "9\n"
     ]
    }
   ],
   "source": [
    "平方(3)"
   ]
  },
  {
   "cell_type": "markdown",
   "metadata": {},
   "source": [
    "耶, 這看起來一模一樣! 有什麼差別呢? 答案是有 `return` 函式會回傳一個值回來, 沒有的話, 函式不會回傳任何東西。我們看個例子就更明白。"
   ]
  },
  {
   "cell_type": "code",
   "execution_count": 28,
   "metadata": {},
   "outputs": [
    {
     "name": "stdout",
     "output_type": "stream",
     "text": [
      "7569\n"
     ]
    }
   ],
   "source": [
    "a = square(87)\n",
    "b = 平方(87)"
   ]
  },
  {
   "cell_type": "markdown",
   "metadata": {},
   "source": [
    "看來 a 和 b 應該是一樣?"
   ]
  },
  {
   "cell_type": "code",
   "execution_count": 29,
   "metadata": {},
   "outputs": [
    {
     "data": {
      "text/plain": [
       "7569"
      ]
     },
     "execution_count": 29,
     "metadata": {},
     "output_type": "execute_result"
    }
   ],
   "source": [
    "a"
   ]
  },
  {
   "cell_type": "code",
   "execution_count": 30,
   "metadata": {},
   "outputs": [],
   "source": [
    "b"
   ]
  },
  {
   "cell_type": "markdown",
   "metadata": {},
   "source": [
    "結果是 a 真的會變成 87 的平方, 但 b 沒有任何值! 因為 \"平方\" 這個函數沒有任何值..."
   ]
  },
  {
   "cell_type": "markdown",
   "metadata": {},
   "source": [
    "接著我們用新學會的反轉字串 (串列), 做成一個函數。"
   ]
  },
  {
   "cell_type": "code",
   "execution_count": 31,
   "metadata": {},
   "outputs": [],
   "source": [
    "def reverse(s):\n",
    "    return s[::-1]"
   ]
  },
  {
   "cell_type": "code",
   "execution_count": 32,
   "metadata": {},
   "outputs": [
    {
     "data": {
      "text/plain": [
       "'elppa'"
      ]
     },
     "execution_count": 32,
     "metadata": {},
     "output_type": "execute_result"
    }
   ],
   "source": [
    "reverse('apple')"
   ]
  },
  {
   "cell_type": "code",
   "execution_count": 33,
   "metadata": {},
   "outputs": [
    {
     "data": {
      "text/plain": [
       "['d', 'c', 'b', 'a']"
      ]
     },
     "execution_count": 33,
     "metadata": {},
     "output_type": "execute_result"
    }
   ],
   "source": [
    "reverse(['a', 'b', 'c', 'd'])"
   ]
  },
  {
   "cell_type": "markdown",
   "metadata": {},
   "source": [
    "很神奇的是, 這個函數不管是對串列或是對字串都是一體適用的!"
   ]
  },
  {
   "cell_type": "markdown",
   "metadata": {},
   "source": [
    "接著我們想做一個猜數字遊戲, 並且把它設計成一個函數。為了這個, 我們介紹從 `random` 套件庫來的 `randint` 指令。"
   ]
  },
  {
   "cell_type": "markdown",
   "metadata": {},
   "source": [
    "![randint](images/randint.png)"
   ]
  },
  {
   "cell_type": "markdown",
   "metadata": {},
   "source": [
    "### 問題: 猜數字遊戲\n",
    "\n",
    "電腦從 1-100 之間「想」一個數字。玩家開始猜電腦的數字, 電腦回饋「太大」或「太小」, 直到猜對為止。"
   ]
  },
  {
   "cell_type": "code",
   "execution_count": 35,
   "metadata": {},
   "outputs": [],
   "source": [
    "from random import randint"
   ]
  },
  {
   "cell_type": "code",
   "execution_count": 36,
   "metadata": {},
   "outputs": [],
   "source": [
    "def game():\n",
    "    ans = randint(1, 100)\n",
    "    guess = -1\n",
    "\n",
    "    while guess != ans:\n",
    "        guess = int(input(\"請輸入一個數字: \"))\n",
    "\n",
    "        if guess>ans:\n",
    "            print(\"太大了!\")\n",
    "        elif guess<ans:\n",
    "            print(\"太小了!\")\n",
    "        else:\n",
    "            print(\"太神了!\")"
   ]
  },
  {
   "cell_type": "code",
   "execution_count": 37,
   "metadata": {},
   "outputs": [
    {
     "name": "stdout",
     "output_type": "stream",
     "text": [
      "請輸入一個數字: 50\n",
      "太大了!\n",
      "請輸入一個數字: 30\n",
      "太大了!\n",
      "請輸入一個數字: 15\n",
      "太小了!\n",
      "請輸入一個數字: 20\n",
      "太小了!\n",
      "請輸入一個數字: 25\n",
      "太大了!\n",
      "請輸入一個數字: 23\n",
      "太小了!\n",
      "請輸入一個數字: 24\n",
      "太神了!\n"
     ]
    }
   ],
   "source": [
    "game()"
   ]
  },
  {
   "cell_type": "markdown",
   "metadata": {},
   "source": [
    "現在我們想要玩了一盤之後, 能問要不要再玩一次。這時可以發現, 我們把遊戲寫成一個函數就很方便!"
   ]
  },
  {
   "cell_type": "code",
   "execution_count": 39,
   "metadata": {},
   "outputs": [
    {
     "name": "stdout",
     "output_type": "stream",
     "text": [
      "請輸入一個數字: 80\n",
      "太大了!\n",
      "請輸入一個數字: 40\n",
      "太大了!\n",
      "請輸入一個數字: 20\n",
      "太大了!\n",
      "請輸入一個數字: 10\n",
      "太大了!\n",
      "請輸入一個數字: 5\n",
      "太小了!\n",
      "請輸入一個數字: 7\n",
      "太神了!\n",
      "ヽ(∀ﾟ )人(ﾟ∀ﾟ)人( ﾟ∀)人(∀ﾟ )ﾉ\n",
      "再玩一次?yes\n",
      "請輸入一個數字: 50\n",
      "太小了!\n",
      "請輸入一個數字: 70\n",
      "太小了!\n",
      "請輸入一個數字: 80\n",
      "太小了!\n",
      "請輸入一個數字: 90\n",
      "太小了!\n",
      "請輸入一個數字: 99\n",
      "太小了!\n",
      "請輸入一個數字: 100\n",
      "太神了!\n",
      "ヽ(∀ﾟ )人(ﾟ∀ﾟ)人( ﾟ∀)人(∀ﾟ )ﾉ\n",
      "再玩一次?no\n"
     ]
    }
   ],
   "source": [
    "play = True\n",
    "\n",
    "while play:\n",
    "    game()\n",
    "    print(\"ヽ(∀ﾟ )人(ﾟ∀ﾟ)人( ﾟ∀)人(∀ﾟ )ﾉ\")\n",
    "    again = input(\"再玩一次?\")\n",
    "    if again == 'no':\n",
    "        play = False"
   ]
  },
  {
   "cell_type": "markdown",
   "metadata": {},
   "source": [
    "我們現在準備存成一個 Python 檔案。Python 檔一般以 `.py` 結尾, 要執行在終端機 (Anaconda Prompt) 打入\n",
    "\n",
    "    python 檔名.py\n",
    "    \n",
    "就可以!"
   ]
  },
  {
   "cell_type": "markdown",
   "metadata": {},
   "source": [
    "![Python 檔案](images/python_file.png)"
   ]
  },
  {
   "cell_type": "markdown",
   "metadata": {},
   "source": [
    "看了一下, 我們這次需要存的輸入格有 35, 36, 39 三行。可以用魔術指令 `%save` 來儲存。"
   ]
  },
  {
   "cell_type": "code",
   "execution_count": 44,
   "metadata": {},
   "outputs": [
    {
     "name": "stdout",
     "output_type": "stream",
     "text": [
      "The following commands were written to file `guessing_game.py`:\n",
      "from random import randint\n",
      "def game():\n",
      "    ans = randint(1, 100)\n",
      "    guess = -1\n",
      "\n",
      "    while guess != ans:\n",
      "        guess = int(input(\"請輸入一個數字: \"))\n",
      "\n",
      "        if guess>ans:\n",
      "            print(\"太大了!\")\n",
      "        elif guess<ans:\n",
      "            print(\"太小了!\")\n",
      "        else:\n",
      "            print(\"太神了!\")\n",
      "play = True\n",
      "\n",
      "while play:\n",
      "    game()\n",
      "    print(\"ヽ(∀ﾟ )人(ﾟ∀ﾟ)人( ﾟ∀)人(∀ﾟ )ﾉ\")\n",
      "    again = input(\"再玩一次?\")\n",
      "    if again == 'no':\n",
      "        play = False\n"
     ]
    }
   ],
   "source": [
    "%save \"guessing_game.py\" 35-36 39"
   ]
  },
  {
   "cell_type": "markdown",
   "metadata": {},
   "source": [
    "於是我們就可以在終端機 (或 Windows 下的 Anaconda Prompt), 確定是在這個 `guessing_game.py' 這個資料夾下, 打入\n",
    "\n",
    "    python guessing_game.py\n",
    "    \n",
    "就可以執行了!\n",
    "\n",
    "![在終端機執行猜數字遊戲](images/game_terminal.png)"
   ]
  }
 ],
 "metadata": {
  "kernelspec": {
   "display_name": "Python 3",
   "language": "python",
   "name": "python3"
  },
  "language_info": {
   "codemirror_mode": {
    "name": "ipython",
    "version": 3
   },
   "file_extension": ".py",
   "mimetype": "text/x-python",
   "name": "python",
   "nbconvert_exporter": "python",
   "pygments_lexer": "ipython3",
   "version": "3.7.3"
  }
 },
 "nbformat": 4,
 "nbformat_minor": 2
}
