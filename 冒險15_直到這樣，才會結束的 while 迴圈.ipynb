{
 "cells": [
  {
   "cell_type": "code",
   "execution_count": 1,
   "metadata": {},
   "outputs": [],
   "source": [
    "%matplotlib inline\n",
    "\n",
    "import numpy as np\n",
    "import matplotlib.pyplot"
   ]
  },
  {
   "cell_type": "markdown",
   "metadata": {},
   "source": [
    "![while 迴圈](images/T_while.png)\n",
    "\n",
    "        while 條件式:\n",
    "            條件符合就執行\n",
    "            \n",
    "要小心不要讓這個迴圈無窮執行。"
   ]
  },
  {
   "cell_type": "code",
   "execution_count": 2,
   "metadata": {},
   "outputs": [
    {
     "name": "stdout",
     "output_type": "stream",
     "text": [
      "(*´▽`*)\n",
      "(*´▽`*)(*´▽`*)\n",
      "(*´▽`*)(*´▽`*)(*´▽`*)\n",
      "(*´▽`*)(*´▽`*)(*´▽`*)(*´▽`*)\n",
      "(*´▽`*)(*´▽`*)(*´▽`*)(*´▽`*)(*´▽`*)\n"
     ]
    }
   ],
   "source": [
    "i = 1\n",
    "face = \"(*´▽`*)\"\n",
    "\n",
    "while i <= 5:\n",
    "    print(face * i)\n",
    "    i = i + 1"
   ]
  },
  {
   "cell_type": "markdown",
   "metadata": {},
   "source": [
    "### 【練習】拍拍機器人正式版\n",
    "\n",
    "一直和你對話, 直到你說再見..."
   ]
  },
  {
   "cell_type": "code",
   "execution_count": 4,
   "metadata": {},
   "outputs": [
    {
     "name": "stdout",
     "output_type": "stream",
     "text": [
      "> 我覺得很難過。\n",
      "ヾ(･∀･`): 拍拍\n",
      "\n",
      "> Python 都不太會寫。\n",
      "ヾ(･∀･`): 拍拍\n",
      "\n",
      "> 一起學的朋友也不教我。\n",
      "ヾ(･∀･`): 拍拍\n",
      "\n",
      "> Bye\n",
      "ヾ(･∀･`): 拍拍\n",
      "\n"
     ]
    }
   ],
   "source": [
    "message = \"\"\n",
    "\n",
    "while message!=\"Bye\":\n",
    "    message = input(\"> \")\n",
    "    print(\"ヾ(･∀･`): 拍拍\")\n",
    "    print()"
   ]
  }
 ],
 "metadata": {
  "kernelspec": {
   "display_name": "Python 3",
   "language": "python",
   "name": "python3"
  },
  "language_info": {
   "codemirror_mode": {
    "name": "ipython",
    "version": 3
   },
   "file_extension": ".py",
   "mimetype": "text/x-python",
   "name": "python",
   "nbconvert_exporter": "python",
   "pygments_lexer": "ipython3",
   "version": "3.7.3"
  }
 },
 "nbformat": 4,
 "nbformat_minor": 1
}
