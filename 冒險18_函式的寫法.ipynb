{
 "cells": [
  {
   "cell_type": "code",
   "execution_count": 1,
   "metadata": {},
   "outputs": [],
   "source": [
    "import numpy as np\n",
    "import matplotlib.pyplot as plt"
   ]
  },
  {
   "cell_type": "markdown",
   "metadata": {},
   "source": [
    "![函式的寫法](images/function.png)"
   ]
  },
  {
   "cell_type": "markdown",
   "metadata": {},
   "source": [
    "我們現在要進入 Python 基礎篇最後一個、也是相當重要的主題, 就是函式的寫法。"
   ]
  },
  {
   "cell_type": "markdown",
   "metadata": {},
   "source": [
    "![函式結構](images/function_str.png)"
   ]
  },
  {
   "cell_type": "markdown",
   "metadata": {},
   "source": [
    "假設我們要做一個簡單的函數, 輸入 $x$, 輸出 $x^2$。"
   ]
  },
  {
   "cell_type": "code",
   "execution_count": 23,
   "metadata": {},
   "outputs": [],
   "source": [
    "def square(x):\n",
    "    return x**2"
   ]
  },
  {
   "cell_type": "code",
   "execution_count": 24,
   "metadata": {},
   "outputs": [
    {
     "data": {
      "text/plain": [
       "9"
      ]
     },
     "execution_count": 24,
     "metadata": {},
     "output_type": "execute_result"
    }
   ],
   "source": [
    "square(3)"
   ]
  },
  {
   "cell_type": "markdown",
   "metadata": {},
   "source": [
    "寫成函式的好處是可以一直重覆使用! 剛開始大家的疑問可能是 `return` 是什麼意思, 我們再用另一個幾乎一樣的函式來說明。"
   ]
  },
  {
   "cell_type": "code",
   "execution_count": 25,
   "metadata": {},
   "outputs": [],
   "source": [
    "def 平方(x):\n",
    "    print(x**2)"
   ]
  },
  {
   "cell_type": "code",
   "execution_count": 26,
   "metadata": {},
   "outputs": [
    {
     "name": "stdout",
     "output_type": "stream",
     "text": [
      "9\n"
     ]
    }
   ],
   "source": [
    "平方(3)"
   ]
  },
  {
   "cell_type": "markdown",
   "metadata": {},
   "source": [
    "耶, 這看起來一模一樣! 有什麼差別呢? 答案是有 `return` 函式會回傳一個值回來, 沒有的話, 函式不會回傳任何東西。我們看個例子就更明白。"
   ]
  },
  {
   "cell_type": "code",
   "execution_count": 28,
   "metadata": {},
   "outputs": [
    {
     "name": "stdout",
     "output_type": "stream",
     "text": [
      "7569\n"
     ]
    }
   ],
   "source": [
    "a = square(87)\n",
    "b = 平方(87)"
   ]
  },
  {
   "cell_type": "markdown",
   "metadata": {},
   "source": [
    "看來 a 和 b 應該是一樣?"
   ]
  },
  {
   "cell_type": "code",
   "execution_count": 29,
   "metadata": {},
   "outputs": [
    {
     "data": {
      "text/plain": [
       "7569"
      ]
     },
     "execution_count": 29,
     "metadata": {},
     "output_type": "execute_result"
    }
   ],
   "source": [
    "a"
   ]
  },
  {
   "cell_type": "code",
   "execution_count": 30,
   "metadata": {},
   "outputs": [],
   "source": [
    "b"
   ]
  },
  {
   "cell_type": "markdown",
   "metadata": {},
   "source": [
    "結果是 a 真的會變成 87 的平方, 但 b 沒有任何值! 因為 \"平方\" 這個函數沒有任何值..."
   ]
  },
  {
   "cell_type": "markdown",
   "metadata": {},
   "source": [
    "接著我們用新學會的反轉字串 (串列), 做成一個函數。"
   ]
  },
  {
   "cell_type": "code",
   "execution_count": 3,
   "metadata": {},
   "outputs": [],
   "source": [
    "def reverse(s):\n",
    "    return s[::-1]"
   ]
  },
  {
   "cell_type": "code",
   "execution_count": 32,
   "metadata": {
    "scrolled": false
   },
   "outputs": [
    {
     "data": {
      "text/plain": [
       "'elppa'"
      ]
     },
     "execution_count": 32,
     "metadata": {},
     "output_type": "execute_result"
    }
   ],
   "source": [
    "reverse('apple')"
   ]
  },
  {
   "cell_type": "code",
   "execution_count": 33,
   "metadata": {
    "scrolled": true
   },
   "outputs": [
    {
     "data": {
      "text/plain": [
       "['d', 'c', 'b', 'a']"
      ]
     },
     "execution_count": 33,
     "metadata": {},
     "output_type": "execute_result"
    }
   ],
   "source": [
    "reverse(['a', 'b', 'c', 'd'])"
   ]
  },
  {
   "cell_type": "markdown",
   "metadata": {},
   "source": [
    "很神奇的是, 這個函數不管是對串列或是對字串都是一體適用的! 中文當然也可以!"
   ]
  },
  {
   "cell_type": "code",
   "execution_count": 4,
   "metadata": {},
   "outputs": [
    {
     "data": {
      "text/plain": [
       "'花蓮噴水池水噴蓮花'"
      ]
     },
     "execution_count": 4,
     "metadata": {},
     "output_type": "execute_result"
    }
   ],
   "source": [
    "reverse('花蓮噴水池水噴蓮花')"
   ]
  },
  {
   "cell_type": "markdown",
   "metadata": {},
   "source": [
    "這讓我們想到了從前做過一個「迴文」的例子，也就是順著、倒著都是一様的字或句子。函數其實也可以回傳 True 或是 False。"
   ]
  },
  {
   "cell_type": "code",
   "execution_count": 6,
   "metadata": {},
   "outputs": [],
   "source": [
    "def isPalindrome(s):\n",
    "    return s == reverse(s)"
   ]
  },
  {
   "cell_type": "code",
   "execution_count": 9,
   "metadata": {},
   "outputs": [
    {
     "data": {
      "text/plain": [
       "False"
      ]
     },
     "execution_count": 9,
     "metadata": {},
     "output_type": "execute_result"
    }
   ],
   "source": [
    "isPalindrome('Python')"
   ]
  },
  {
   "cell_type": "code",
   "execution_count": 7,
   "metadata": {},
   "outputs": [
    {
     "data": {
      "text/plain": [
       "True"
      ]
     },
     "execution_count": 7,
     "metadata": {},
     "output_type": "execute_result"
    }
   ],
   "source": [
    "isPalindrome('abba')"
   ]
  },
  {
   "cell_type": "code",
   "execution_count": 8,
   "metadata": {},
   "outputs": [
    {
     "data": {
      "text/plain": [
       "True"
      ]
     },
     "execution_count": 8,
     "metadata": {},
     "output_type": "execute_result"
    }
   ],
   "source": [
    "isPalindrome('花蓮噴水池水噴蓮花')"
   ]
  },
  {
   "cell_type": "code",
   "execution_count": 10,
   "metadata": {},
   "outputs": [
    {
     "name": "stdout",
     "output_type": "stream",
     "text": [
      "請輸入一個英文單字或是中文句子: 上海自來水來自海上\n",
      "這是迴文！\n"
     ]
    }
   ],
   "source": [
    "s = input('請輸入一個英文單字或是中文句子: ')\n",
    "\n",
    "if isPalindrome(s):\n",
    "    print('這是迴文！')\n",
    "else:\n",
    "    print('這不是迴文!')"
   ]
  },
  {
   "cell_type": "code",
   "execution_count": null,
   "metadata": {},
   "outputs": [],
   "source": []
  },
  {
   "cell_type": "markdown",
   "metadata": {},
   "source": [
    "接著我們想做一個猜數字遊戲, 並且把它設計成一個函數。為了這個, 我們介紹從 `random` 套件庫來的 `randint` 指令。"
   ]
  },
  {
   "cell_type": "markdown",
   "metadata": {},
   "source": [
    "![randint](images/randint.png)"
   ]
  },
  {
   "cell_type": "markdown",
   "metadata": {},
   "source": [
    "### 問題: 猜數字遊戲\n",
    "\n",
    "電腦從 1-100 之間「想」一個數字。玩家開始猜電腦的數字, 電腦回饋「太大」或「太小」, 直到猜對為止。"
   ]
  },
  {
   "cell_type": "code",
   "execution_count": 35,
   "metadata": {},
   "outputs": [],
   "source": [
    "from random import randint"
   ]
  },
  {
   "cell_type": "code",
   "execution_count": 36,
   "metadata": {},
   "outputs": [],
   "source": [
    "def game():\n",
    "    ans = randint(1, 100)\n",
    "    guess = -1\n",
    "\n",
    "    while guess != ans:\n",
    "        guess = int(input(\"請輸入一個數字: \"))\n",
    "\n",
    "        if guess>ans:\n",
    "            print(\"太大了!\")\n",
    "        elif guess<ans:\n",
    "            print(\"太小了!\")\n",
    "        else:\n",
    "            print(\"太神了!\")"
   ]
  },
  {
   "cell_type": "code",
   "execution_count": 37,
   "metadata": {},
   "outputs": [
    {
     "name": "stdout",
     "output_type": "stream",
     "text": [
      "請輸入一個數字: 50\n",
      "太大了!\n",
      "請輸入一個數字: 30\n",
      "太大了!\n",
      "請輸入一個數字: 15\n",
      "太小了!\n",
      "請輸入一個數字: 20\n",
      "太小了!\n",
      "請輸入一個數字: 25\n",
      "太大了!\n",
      "請輸入一個數字: 23\n",
      "太小了!\n",
      "請輸入一個數字: 24\n",
      "太神了!\n"
     ]
    }
   ],
   "source": [
    "game()"
   ]
  },
  {
   "cell_type": "markdown",
   "metadata": {},
   "source": [
    "現在我們想要玩了一盤之後, 能問要不要再玩一次。這時可以發現, 我們把遊戲寫成一個函數就很方便!"
   ]
  },
  {
   "cell_type": "code",
   "execution_count": 39,
   "metadata": {},
   "outputs": [
    {
     "name": "stdout",
     "output_type": "stream",
     "text": [
      "請輸入一個數字: 80\n",
      "太大了!\n",
      "請輸入一個數字: 40\n",
      "太大了!\n",
      "請輸入一個數字: 20\n",
      "太大了!\n",
      "請輸入一個數字: 10\n",
      "太大了!\n",
      "請輸入一個數字: 5\n",
      "太小了!\n",
      "請輸入一個數字: 7\n",
      "太神了!\n",
      "ヽ(∀ﾟ )人(ﾟ∀ﾟ)人( ﾟ∀)人(∀ﾟ )ﾉ\n",
      "再玩一次?yes\n",
      "請輸入一個數字: 50\n",
      "太小了!\n",
      "請輸入一個數字: 70\n",
      "太小了!\n",
      "請輸入一個數字: 80\n",
      "太小了!\n",
      "請輸入一個數字: 90\n",
      "太小了!\n",
      "請輸入一個數字: 99\n",
      "太小了!\n",
      "請輸入一個數字: 100\n",
      "太神了!\n",
      "ヽ(∀ﾟ )人(ﾟ∀ﾟ)人( ﾟ∀)人(∀ﾟ )ﾉ\n",
      "再玩一次?no\n"
     ]
    }
   ],
   "source": [
    "play = True\n",
    "\n",
    "while play:\n",
    "    game()\n",
    "    print(\"ヽ(∀ﾟ )人(ﾟ∀ﾟ)人( ﾟ∀)人(∀ﾟ )ﾉ\")\n",
    "    again = input(\"再玩一次?\")\n",
    "    if again == 'no':\n",
    "        play = False"
   ]
  },
  {
   "cell_type": "markdown",
   "metadata": {},
   "source": [
    "我們現在準備存成一個 Python 檔案。Python 檔一般以 `.py` 結尾, 要執行在終端機 (Anaconda Prompt) 打入\n",
    "\n",
    "    python 檔名.py\n",
    "    \n",
    "就可以!"
   ]
  },
  {
   "cell_type": "markdown",
   "metadata": {},
   "source": [
    "![Python 檔案](images/python_file.png)"
   ]
  },
  {
   "cell_type": "markdown",
   "metadata": {},
   "source": [
    "看了一下, 我們這次需要存的輸入格有 35, 36, 39 三行。可以用魔術指令 `%save` 來儲存。"
   ]
  },
  {
   "cell_type": "code",
   "execution_count": 44,
   "metadata": {},
   "outputs": [
    {
     "name": "stdout",
     "output_type": "stream",
     "text": [
      "The following commands were written to file `guessing_game.py`:\n",
      "from random import randint\n",
      "def game():\n",
      "    ans = randint(1, 100)\n",
      "    guess = -1\n",
      "\n",
      "    while guess != ans:\n",
      "        guess = int(input(\"請輸入一個數字: \"))\n",
      "\n",
      "        if guess>ans:\n",
      "            print(\"太大了!\")\n",
      "        elif guess<ans:\n",
      "            print(\"太小了!\")\n",
      "        else:\n",
      "            print(\"太神了!\")\n",
      "play = True\n",
      "\n",
      "while play:\n",
      "    game()\n",
      "    print(\"ヽ(∀ﾟ )人(ﾟ∀ﾟ)人( ﾟ∀)人(∀ﾟ )ﾉ\")\n",
      "    again = input(\"再玩一次?\")\n",
      "    if again == 'no':\n",
      "        play = False\n"
     ]
    }
   ],
   "source": [
    "%save \"guessing_game.py\" 35-36 39"
   ]
  },
  {
   "cell_type": "markdown",
   "metadata": {},
   "source": [
    "於是我們就可以在終端機 (或 Windows 下的 Anaconda Prompt), 確定是在這個 `guessing_game.py' 這個資料夾下, 打入\n",
    "\n",
    "    python guessing_game.py\n",
    "    \n",
    "就可以執行了!\n",
    "\n",
    "![在終端機執行猜數字遊戲](images/game_terminal.png)"
   ]
  }
 ],
 "metadata": {
  "kernelspec": {
   "display_name": "Python 3",
   "language": "python",
   "name": "python3"
  },
  "language_info": {
   "codemirror_mode": {
    "name": "ipython",
    "version": 3
   },
   "file_extension": ".py",
   "mimetype": "text/x-python",
   "name": "python",
   "nbconvert_exporter": "python",
   "pygments_lexer": "ipython3",
   "version": "3.7.3"
  }
 },
 "nbformat": 4,
 "nbformat_minor": 2
}
