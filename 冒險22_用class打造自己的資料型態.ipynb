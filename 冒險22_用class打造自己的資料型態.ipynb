{
 "cells": [
  {
   "cell_type": "markdown",
   "metadata": {},
   "source": [
    "![Class 的使用](images/class.png)"
   ]
  },
  {
   "cell_type": "markdown",
   "metadata": {},
   "source": [
    "很粗略的說, 我們可以把 `Class` 想成一個「自訂資料型態」的方法。Python 什麼東西都是「物件」, 而在我們定義一個字串時, 其實是定義了一個「字串這個類別 (class)」的「實例 (instance)」。"
   ]
  },
  {
   "cell_type": "code",
   "execution_count": 1,
   "metadata": {},
   "outputs": [],
   "source": [
    "st = \"hello world\""
   ]
  },
  {
   "cell_type": "markdown",
   "metadata": {},
   "source": [
    "這裡 `st` 是「字串」這個類別的一個實例。\n",
    "\n",
    "![檢查有什麼可用的 method](images/method.png)"
   ]
  },
  {
   "cell_type": "markdown",
   "metadata": {},
   "source": [
    "所謂的方法 (method), 就是一個類別 (如字串) 中定義, 可以作用在這個實例 (變數) 身上的函式。\n",
    "\n",
    "再一次, 我們可以把定一個 `Class` 看成自己定義新的資料型態的方法。比如說, 我們想定義一個「樸克牌 Class」, 也許可以這樣做..."
   ]
  },
  {
   "cell_type": "code",
   "execution_count": 2,
   "metadata": {},
   "outputs": [],
   "source": [
    "class Card:\n",
    "    suit = 3\n",
    "    rank = 5"
   ]
  },
  {
   "cell_type": "markdown",
   "metadata": {},
   "source": [
    "我們來定義一張牌 `card01`。"
   ]
  },
  {
   "cell_type": "code",
   "execution_count": 3,
   "metadata": {},
   "outputs": [],
   "source": [
    "card01 = Card()"
   ]
  },
  {
   "cell_type": "code",
   "execution_count": 5,
   "metadata": {},
   "outputs": [],
   "source": [
    "card01.suit = 2\n",
    "card01.rank = 5"
   ]
  },
  {
   "cell_type": "code",
   "execution_count": 6,
   "metadata": {},
   "outputs": [
    {
     "data": {
      "text/plain": [
       "2"
      ]
     },
     "execution_count": 6,
     "metadata": {},
     "output_type": "execute_result"
    }
   ],
   "source": [
    "card01.suit"
   ]
  },
  {
   "cell_type": "code",
   "execution_count": 7,
   "metadata": {},
   "outputs": [
    {
     "data": {
      "text/plain": [
       "5"
      ]
     },
     "execution_count": 7,
     "metadata": {},
     "output_type": "execute_result"
    }
   ],
   "source": [
    "card01.rank"
   ]
  },
  {
   "cell_type": "markdown",
   "metadata": {},
   "source": [
    "我們甚至可以檢查 `card01` 的資料型態。"
   ]
  },
  {
   "cell_type": "code",
   "execution_count": 8,
   "metadata": {},
   "outputs": [
    {
     "data": {
      "text/plain": [
       "__main__.Card"
      ]
     },
     "execution_count": 8,
     "metadata": {},
     "output_type": "execute_result"
    }
   ],
   "source": [
    "type(card01)"
   ]
  },
  {
   "cell_type": "markdown",
   "metadata": {},
   "source": [
    "我們可以再定義新的牌。"
   ]
  },
  {
   "cell_type": "code",
   "execution_count": 9,
   "metadata": {},
   "outputs": [],
   "source": [
    "card02 = Card()\n",
    "\n",
    "card02.suit = 3\n",
    "card02.rank = 10"
   ]
  },
  {
   "cell_type": "markdown",
   "metadata": {},
   "source": [
    "但這樣子也太麻煩了, 難道不能這樣:\n",
    "    \n",
    "    card02 = Card(3, 10)\n",
    "    \n",
    "就定義一張牌? 答案當然是肯定的! 這時要動用 Python 的「特殊方法」, 這些在 Class 中使用的特殊方法, 都有一個特殊的命名方式, 那就是...\n",
    "\n",
    "![special method](images/special_method.png)\n",
    "\n",
    "每個特殊方法都有特定使用場合, 比如說 `__init__` 就是在定義一個 class 的實例時會呼叫的函式。"
   ]
  },
  {
   "cell_type": "code",
   "execution_count": 10,
   "metadata": {},
   "outputs": [],
   "source": [
    "class Card:\n",
    "\n",
    "    def __init__(self, s, r):\n",
    "        self.suit = s\n",
    "        self.rank = r"
   ]
  },
  {
   "cell_type": "markdown",
   "metadata": {},
   "source": [
    "這裡要解釋的是, 所有在類別定義的方法 (函式), 一定要引用實例自己本身。這也是初學者最弄不清楚的地方。\n",
    "\n",
    "而實例在定義 class 時根本也還沒有定義, 我們怎知該叫什麼呢? 於是一般都很聰明的稱為 `self`。這其實不一定非叫 `self`, 只是高手們大家都這樣叫, 我們也這樣叫看起來就好像很有涵養的樣子。\n",
    "\n",
    "這樣子定義好, 我們就可以快速的定義一張樸克牌!"
   ]
  },
  {
   "cell_type": "code",
   "execution_count": 11,
   "metadata": {},
   "outputs": [],
   "source": [
    "card01 = Card(2, 3)\n",
    "card02 = Card(3, 10)"
   ]
  },
  {
   "cell_type": "code",
   "execution_count": 12,
   "metadata": {},
   "outputs": [
    {
     "data": {
      "text/plain": [
       "2"
      ]
     },
     "execution_count": 12,
     "metadata": {},
     "output_type": "execute_result"
    }
   ],
   "source": [
    "card01.suit"
   ]
  },
  {
   "cell_type": "code",
   "execution_count": 13,
   "metadata": {},
   "outputs": [
    {
     "data": {
      "text/plain": [
       "3"
      ]
     },
     "execution_count": 13,
     "metadata": {},
     "output_type": "execute_result"
    }
   ],
   "source": [
    "card01.rank"
   ]
  },
  {
   "cell_type": "markdown",
   "metadata": {},
   "source": [
    "我們自己可能知道, suit 代表花色, 有四種所以是 0, 1, 2, 3。可是一般人怎麼知道這是什麼呢? 我們就來第一個自己寫的 class 方法, 用途就是印出花色、牌面點數。"
   ]
  },
  {
   "cell_type": "code",
   "execution_count": 14,
   "metadata": {},
   "outputs": [],
   "source": [
    "class Card:\n",
    "    SUITS = [\"♣\", \"♦\", \"♥\", \"♠\"]\n",
    "    RANKS = ['A', '2', '3', '4', '5', '6', '7', '8', '9', '10', 'J', 'Q', 'K']\n",
    "    \n",
    "    def __init__(self, s, r):\n",
    "        self.suit = s\n",
    "        self.rank = r\n",
    "        \n",
    "    def show(self):\n",
    "        print(self.SUITS[self.suit] + self.RANKS[self.rank])"
   ]
  },
  {
   "cell_type": "code",
   "execution_count": 15,
   "metadata": {},
   "outputs": [],
   "source": [
    "card01 = Card(2, 3)"
   ]
  },
  {
   "cell_type": "code",
   "execution_count": 16,
   "metadata": {},
   "outputs": [
    {
     "name": "stdout",
     "output_type": "stream",
     "text": [
      "♥4\n"
     ]
    }
   ],
   "source": [
    "card01.show()"
   ]
  },
  {
   "cell_type": "markdown",
   "metadata": {},
   "source": [
    "這是不是看來順眼多了? 不過當我們想看 `card01` 內容..."
   ]
  },
  {
   "cell_type": "code",
   "execution_count": 17,
   "metadata": {},
   "outputs": [
    {
     "data": {
      "text/plain": [
       "<__main__.Card at 0x7fbbc80fdf28>"
      ]
     },
     "execution_count": 17,
     "metadata": {},
     "output_type": "execute_result"
    }
   ],
   "source": [
    "card01"
   ]
  },
  {
   "cell_type": "markdown",
   "metadata": {},
   "source": [
    "甚至印出 `card01` 內容..."
   ]
  },
  {
   "cell_type": "code",
   "execution_count": 18,
   "metadata": {},
   "outputs": [
    {
     "name": "stdout",
     "output_type": "stream",
     "text": [
      "<__main__.Card object at 0x7fbbc80fdf28>\n"
     ]
    }
   ],
   "source": [
    "print(card01)"
   ]
  },
  {
   "cell_type": "markdown",
   "metadata": {},
   "source": [
    "為什麼會這樣呢? 因為我們根本沒有定義該怎麼表示 Card 這個類別裡的東西。要做到這件事, 要用另一個特殊方法:\n",
    "\n",
    "    __repr__"
   ]
  },
  {
   "cell_type": "code",
   "execution_count": 19,
   "metadata": {},
   "outputs": [],
   "source": [
    "class Card:\n",
    "    SUITS = [\"♣\", \"♦\", \"♥\", \"♠\"]\n",
    "    RANKS = ['A', '2', '3', '4', '5', '6', '7', '8', '9', '10', 'J', 'Q', 'K']\n",
    "    \n",
    "    def __init__(self, s, r):\n",
    "        self.suit = s\n",
    "        self.rank = r\n",
    "    \n",
    "    def __repr__(self):\n",
    "        return self.SUITS[self.suit] + self.RANKS[self.rank]"
   ]
  },
  {
   "cell_type": "code",
   "execution_count": 20,
   "metadata": {},
   "outputs": [],
   "source": [
    "card01 = Card(2, 3)"
   ]
  },
  {
   "cell_type": "code",
   "execution_count": 21,
   "metadata": {},
   "outputs": [
    {
     "data": {
      "text/plain": [
       "♥4"
      ]
     },
     "execution_count": 21,
     "metadata": {},
     "output_type": "execute_result"
    }
   ],
   "source": [
    "card01"
   ]
  },
  {
   "cell_type": "code",
   "execution_count": 22,
   "metadata": {},
   "outputs": [
    {
     "name": "stdout",
     "output_type": "stream",
     "text": [
      "♥4\n"
     ]
    }
   ],
   "source": [
    "print(card01)"
   ]
  },
  {
   "cell_type": "markdown",
   "metadata": {},
   "source": [
    "傑克, 這真的太神奇了!\n",
    "\n",
    "不過這裡要說明一點, 其實很多時候你不一定非要把程式寫成 Class, 可以用一個或多個函式來做到你想做的事。\n",
    "\n",
    "我們這裡介紹 Class, 最重要的其實是讓大家看懂別人用 Class 寫的程式。"
   ]
  }
 ],
 "metadata": {
  "kernelspec": {
   "display_name": "Python 3",
   "language": "python",
   "name": "python3"
  },
  "language_info": {
   "codemirror_mode": {
    "name": "ipython",
    "version": 3
   },
   "file_extension": ".py",
   "mimetype": "text/x-python",
   "name": "python",
   "nbconvert_exporter": "python",
   "pygments_lexer": "ipython3",
   "version": "3.7.3"
  }
 },
 "nbformat": 4,
 "nbformat_minor": 2
}
